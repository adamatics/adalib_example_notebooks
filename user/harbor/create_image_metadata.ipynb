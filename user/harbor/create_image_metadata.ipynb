{
 "cells": [
  {
   "cell_type": "markdown",
   "metadata": {},
   "source": [
    "# Example notebook for `adalib.harbor.create_image_metadata()`"
   ]
  },
  {
   "cell_type": "markdown",
   "metadata": {},
   "source": [
    "The `create_image_metadata()` function allows the user to create metadata for an existing container image. Learn more about image metadata in the AdaLab documentation under **Container Metadata**."
   ]
  },
  {
   "cell_type": "markdown",
   "metadata": {},
   "source": [
    "## Import modules and functions"
   ]
  },
  {
   "cell_type": "code",
   "execution_count": null,
   "metadata": {},
   "outputs": [],
   "source": [
    "from adalib.harbor import create_image_metadata\n",
    "from adalib_auth.config import get_config"
   ]
  },
  {
   "cell_type": "markdown",
   "metadata": {},
   "source": [
    "## Set up authentication"
   ]
  },
  {
   "cell_type": "markdown",
   "metadata": {},
   "source": [
    "In order to get authenticated with AdaLab, you must initialize the `adalib` configuration with a valid set of credentials. The specific credentials depend on which environment your code is executed in:\n",
    "\n",
    "- If your code is executed in a Lab environment you do not need to pass any arguments, as these are automatically handled by your AdaLab session.\n",
    "- If your code is executed in a deployed app with non-*public* visibility, you need to pass an access token as well as a refresh token. You can find these in the request headers in the user's browser session, which you can retrieve from the user's accessing your app. The method to retrieve these depends on the framework you use (e.g., Streamlit, Flask).\n",
    "- If your code is executed outside AdaLab (e.g., your local computer), you need to pass your AdaLab username and password, as well as the URL of the AdaLab instance you want to connect to. The URL will be something similar to `https://adalab.<organization>.adamatics.io/adaboard/api`.\n"
   ]
  },
  {
   "cell_type": "code",
   "execution_count": null,
   "metadata": {},
   "outputs": [],
   "source": [
    "# If executed in a Lab environment\n",
    "get_config()\n",
    "# If executed in a deployed app\n",
    "# get_config(app_access_token=my_access_token, app_refresh_token=my_refresh_token)\n",
    "# If executed outside AdaLab\n",
    "# get_config(username=my_username, password=my_password, adaboard_api_url=my_url)"
   ]
  },
  {
   "cell_type": "markdown",
   "metadata": {},
   "source": [
    "## Create metadata for a container image"
   ]
  },
  {
   "cell_type": "markdown",
   "metadata": {},
   "source": [
    "In order to create metadata for an image, you must specify which image should be taken as the source, as well as the destination for the metadata in the registry.\n",
    "\n",
    "- `source_type`: whether the image is stored in your Lab environment (`lab`) or in the Harbor registry (`registry`).\n",
    "- `source_repository`: the name of the original image. Note that only alphanumeric characters are admitted.\n",
    "- `source_tag`: the tag of the original image. Note that only alphanumeric characters are admitted.\n",
    "- `project_name`: the destination project in the Harbor registry (`apps`, `kernels` or `base_images`).\n",
    "- `repository_name`: the name to be given to the image in the destination Harbor project. Note that only alphanumeric characters are admitted.\n",
    "- `tag`: the tag to be given to the image with attached metadata. Note that only alphanumeric characters are admitted.\n",
    "- `type_id`: the type of image (`app`, `kernel` or `base_image`).\n",
    "- `name`: the user-friendly name to be shown when accessing the image metadata.\n",
    "- `description`: the functionality or purpose of the image.\n",
    "\n",
    "Please make sure that the provided information is unique, that is, there are no other metadata objects with the same `repository_name` and `tag` combination. You can explore existing metadata objects with [`harbor.get_project_repositories()`](get_project_repositories.ipynb) and [`harbor.get_repository_tags()`](get_repository_tags.ipynb).\n",
    "\n",
    "You may also provide a start up command (`cmd`) to run the image, which will overwrite the original one, if any. If needed, you can also link a picture to the metadata object using the `picture_id` argument. Note that the image must already exist in the AdaLab database.\n",
    "\n",
    "Upon successful execution, the function returns the metadata for the specific image."
   ]
  },
  {
   "cell_type": "code",
   "execution_count": null,
   "metadata": {},
   "outputs": [],
   "source": [
    "my_metadata= create_image_metadata(\n",
    "    source_type=\"lab\",\n",
    "    source_repository=\"my_app_image\",\n",
    "    source_tag=\"4.2\",\n",
    "    project_name=\"apps\",\n",
    "    repository_name=\"my_cool_app\",\n",
    "    tag=\"1.0\",\n",
    "    type_id=\"app\",\n",
    "    name=\"Cool app\",\n",
    "    description=\"An amazing app.\",\n",
    "    username=\"robert\")"
   ]
  },
  {
   "cell_type": "markdown",
   "metadata": {},
   "source": [
    "## Explore and verify the created image metadata"
   ]
  },
  {
   "cell_type": "markdown",
   "metadata": {},
   "source": [
    "Metadata is retrieved as a `dict`, where each entry contains a property of the object."
   ]
  },
  {
   "cell_type": "code",
   "execution_count": null,
   "metadata": {},
   "outputs": [],
   "source": [
    "display(my_metadata)"
   ]
  }
 ],
 "metadata": {
  "kernelspec": {
   "display_name": ".venv",
   "language": "python",
   "name": "python3"
  },
  "language_info": {
   "codemirror_mode": {
    "name": "ipython",
    "version": 3
   },
   "file_extension": ".py",
   "mimetype": "text/x-python",
   "name": "python",
   "nbconvert_exporter": "python",
   "pygments_lexer": "ipython3",
   "version": "3.10.12"
  }
 },
 "nbformat": 4,
 "nbformat_minor": 2
}
