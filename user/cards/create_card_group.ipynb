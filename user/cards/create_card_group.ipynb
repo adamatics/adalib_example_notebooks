{
 "cells": [
  {
   "cell_type": "markdown",
   "metadata": {},
   "source": [
    "# Example notebook for `adalib.cards.create_card_group()`"
   ]
  },
  {
   "cell_type": "markdown",
   "metadata": {},
   "source": [
    "The `create_card_group()` function allows the user to create a card group in the AdaLab Gallery. You can learn more about card creation in the AdaLab documentation under **Gallery > Cards in AdaLab > Creating Cards**."
   ]
  },
  {
   "cell_type": "markdown",
   "metadata": {},
   "source": [
    "## Import modules and functions"
   ]
  },
  {
   "cell_type": "code",
   "execution_count": null,
   "metadata": {},
   "outputs": [],
   "source": [
    "from adalib.cards import create_card_group\n",
    "from adalib_auth.config import get_config"
   ]
  },
  {
   "cell_type": "markdown",
   "metadata": {},
   "source": [
    "## Set up authentication"
   ]
  },
  {
   "cell_type": "markdown",
   "metadata": {},
   "source": [
    "In order to get authenticated with AdaLab, you must initialize the `adalib` configuration with a valid set of credentials. The specific credentials depend on which environment your code is executed in:\n",
    "\n",
    "- If your code is executed in a Lab environment you do not need to pass any arguments, as these are automatically handled by your AdaLab session.\n",
    "- If your code is executed in a deployed app with non-*public* visibility, you need to pass an access token as well as a refresh token. You can find these in the request headers in the user's browser session, which you can retrieve from the user's accessing your app. The method to retrieve these depends on the framework you use (e.g., Streamlit, Flask).\n",
    "- If your code is executed outside AdaLab (e.g., your local computer), you need to pass your AdaLab username and password, as well as the URL of the AdaLab instance you want to connect to. The URL will be something similar to `https://adalab.<organization>.adamatics.io/adaboard/api`.\n"
   ]
  },
  {
   "cell_type": "code",
   "execution_count": null,
   "metadata": {},
   "outputs": [],
   "source": [
    "# If executed in a Lab environment\n",
    "get_config()\n",
    "# If executed in a deployed app\n",
    "# get_config(app_access_token=my_access_token, app_refresh_token=my_refresh_token)\n",
    "# If executed outside AdaLab\n",
    "# get_config(token=my_adalab_token, adaboard_api_url=my_url)"
   ]
  },
  {
   "cell_type": "markdown",
   "metadata": {},
   "source": [
    "## Create a new card group"
   ]
  },
  {
   "cell_type": "markdown",
   "metadata": {},
   "source": [
    "You can add cards of any type to a group. You can find the cards' IDs by examining the output of [`cards.get_cards()`](get_cards.ipynb).\n",
    "\n",
    "Note that the ACL configuration you set up when creating the group applies only to the group itself. The cards in the group will retain their original ACL configuration. The same applies to the visibility and the approval status of the cards.\n",
    "\n",
    "If any of the chosen keywords does not exist when using this function, they will be created in the Gallery. You can see existing keywords by using [`keywords.get_keywords()`](../keywords/get_keywords.ipynb).\n",
    "\n",
    "The fundamental information to be provided when creating a card group is:\n",
    "- `name`: a user-friendly name for the group.\n",
    "- `description`: some useful information about the group's purpose.\n",
    "- `cards_id`: list of IDs of cards to be added to the group.\n",
    "\n",
    "There are some additional arguments that allow you to tailor your group's purpose and scope:\n",
    "- `acl_type_<action>`: it establishes the type of access control for a specific action (`view`, `launch` or `edit`). Valid types are: `public`, `logged_in`, `userlist` and `grouplist`.\n",
    "- `acl_list_<action>`: when choosing an ACL of type `userlist` or `grouplist` for an action, you also need to provide a list of users/groups authorized to take such action.\n",
    "- `coauthors`: names of colleagues who have also participated in the creation of the card.\n",
    "- `keywords`: a list of existing AdaLab keywords to better classify the card.\n",
    "- `picture_id`: the ID of the picture to be used in the group. If not already present in the Gallery, you can upload a new one with [`pictures.post_picture()`](../pictures/post_picture.ipynb).\n",
    "- `reviewers`: a list of users who will review the card group.\n",
    "\n",
    "Upon successful execution, the function will return the new card's ID."
   ]
  },
  {
   "cell_type": "code",
   "execution_count": null,
   "metadata": {},
   "outputs": [],
   "source": [
    "my_card_group_id = create_card_group(\n",
    "    name=\"Cool Cards\",\n",
    "    description=\"Only cool cards allowed.\",\n",
    "    cards_id=[14, 55],\n",
    "    acl_type_view=\"userlist\",\n",
    "    acl_list_view=[\"my_username\", \"my_colleague\"],\n",
    "    keywords=[\"cool\", \"cards\"],\n",
    ")"
   ]
  },
  {
   "cell_type": "code",
   "execution_count": null,
   "metadata": {},
   "outputs": [],
   "source": []
  }
 ],
 "metadata": {
  "language_info": {
   "name": "python"
  }
 },
 "nbformat": 4,
 "nbformat_minor": 2
}
