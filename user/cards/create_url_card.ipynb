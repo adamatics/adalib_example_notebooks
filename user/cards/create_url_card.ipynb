{
 "cells": [
  {
   "cell_type": "markdown",
   "metadata": {},
   "source": [
    "# Example notebook for `adalib.cards.create_url_card()`"
   ]
  },
  {
   "cell_type": "markdown",
   "metadata": {},
   "source": [
    "The `create_url_card()` function allows the user to create an URL-type card in the AdaLab Gallery. You can learn more about card creation in the AdaLab documentation under **Gallery > Cards in AdaLab > Creating Cards**."
   ]
  },
  {
   "cell_type": "markdown",
   "metadata": {},
   "source": [
    "## Import modules and functions"
   ]
  },
  {
   "cell_type": "code",
   "execution_count": null,
   "metadata": {},
   "outputs": [],
   "source": [
    "from adalib.cards import create_url_card\n",
    "from adalib_auth.config import get_config"
   ]
  },
  {
   "cell_type": "markdown",
   "metadata": {},
   "source": [
    "## Set up authentication"
   ]
  },
  {
   "cell_type": "markdown",
   "metadata": {},
   "source": [
    "In order to get authenticated with AdaLab, you must initialize the `adalib` configuration with a valid set of credentials. The specific credentials depend on which environment your code is executed in:\n",
    "\n",
    "- If your code is executed in a Lab environment you do not need to pass any arguments, as these are automatically handled by your AdaLab session.\n",
    "- If your code is executed in a deployed app with non-*public* visibility, you need to pass an access token as well as a refresh token. You can find these in the request headers in the user's browser session, which you can retrieve from the user's accessing your app. The method to retrieve these depends on the framework you use (e.g., Streamlit, Flask).\n",
    "- If your code is executed outside AdaLab (e.g., your local computer), you need to pass your AdaLab username and password, as well as the URL of the AdaLab instance you want to connect to. The URL will be something similar to `https://adalab.<organization>.adamatics.io/adaboard/api`.\n"
   ]
  },
  {
   "cell_type": "code",
   "execution_count": null,
   "metadata": {},
   "outputs": [],
   "source": [
    "# If executed in a Lab environment\n",
    "get_config()\n",
    "# If executed in a deployed app\n",
    "# get_config(app_access_token=my_access_token, app_refresh_token=my_refresh_token)\n",
    "# If executed outside AdaLab\n",
    "# get_config(token=my_adalab_token, adaboard_api_url=my_url)"
   ]
  },
  {
   "cell_type": "markdown",
   "metadata": {},
   "source": [
    "## Create a new card"
   ]
  },
  {
   "cell_type": "markdown",
   "metadata": {},
   "source": [
    "With this function you can create cards of type *URL*. You must provide the following parameters:\n",
    "- `name`: a user-friendly name for the card.\n",
    "- `description`: some useful information about the card's purpose.\n",
    "- `remote_url`: the URL that the card must point to.\n",
    "- `url_subtype`: type of URL. Note that this must already exist in the Gallery. You can find the available subtypes by using [`cards.get_url_subtypes()`](./get_url_subtypes.ipynb).\n",
    "\n",
    "There are some additional arguments that allow you to tailor your card's purpose and scope:\n",
    "- `acl_type_<action>`: it establishes the type of access control for a specific action (`view`, `launch` or `edit`). Valid types are: `public`, `logged_in`, `userlist` and `grouplist`.\n",
    "- `acl_list_<action>`: when choosing an ACL of type `userlist` or `grouplist` for an action, you also need to provide a list of users/groups authorized to take such action.\n",
    "- `coauthors`: names of colleagues who have also participated in the creation of the card.\n",
    "- `keywords`: a list of existing AdaLab keywords to better classify the app. You can verify whether a keyword exists by using [`keywords.get_keywords()`](../keywords/get_keywords.ipynb).\n",
    "\n",
    "Upon successful execution, the function will return the new card's ID."
   ]
  },
  {
   "cell_type": "code",
   "execution_count": null,
   "metadata": {},
   "outputs": [],
   "source": [
    "my_card_id = create_url_card(\n",
    "    name=\"Fascinating content\", \n",
    "    description=\"Come check this out!\",\n",
    "    remote_url=\"https://adamatics.com\",\n",
    "    url_subtype=\"official\",\n",
    "    acl_type_view=\"public\",\n",
    "    acl_type_launch=\"logged_in\",\n",
    "    acl_type_edit=\"userlist\",\n",
    "    acl_list_edit=[\"myself\", \"my_colleague\"],\n",
    "    coauthors=[\"my_colleague\"],\n",
    "    keywords=[\"data analysis\", \"genomics\"],\n",
    ")"
   ]
  }
 ],
 "metadata": {
  "kernelspec": {
   "display_name": ".venv",
   "language": "python",
   "name": "python3"
  },
  "language_info": {
   "codemirror_mode": {
    "name": "ipython",
    "version": 3
   },
   "file_extension": ".py",
   "mimetype": "text/x-python",
   "name": "python",
   "nbconvert_exporter": "python",
   "pygments_lexer": "ipython3",
   "version": "3.10.12"
  }
 },
 "nbformat": 4,
 "nbformat_minor": 2
}
