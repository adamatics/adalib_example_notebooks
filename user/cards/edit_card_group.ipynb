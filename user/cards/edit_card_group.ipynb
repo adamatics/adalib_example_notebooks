{
 "cells": [
  {
   "cell_type": "markdown",
   "metadata": {},
   "source": [
    "# Example notebook for `adalib.cards.edit_card_group()`"
   ]
  },
  {
   "cell_type": "markdown",
   "metadata": {},
   "source": [
    "The `edit_card_group()` function allows the user to modify the contents and information of a card group in the AdaLab Gallery. You can learn more about card set up in the AdaLab documentation under **Gallery > Cards in AdaLab > Creating Cards**."
   ]
  },
  {
   "cell_type": "markdown",
   "metadata": {},
   "source": [
    "## Import modules and functions"
   ]
  },
  {
   "cell_type": "code",
   "execution_count": null,
   "metadata": {},
   "outputs": [],
   "source": [
    "from adalib.cards import edit_card_group\n",
    "from adalib_auth.config import get_config"
   ]
  },
  {
   "cell_type": "markdown",
   "metadata": {},
   "source": [
    "## Set up authentication"
   ]
  },
  {
   "cell_type": "markdown",
   "metadata": {},
   "source": [
    "In order to get authenticated with AdaLab, you must initialize the `adalib` configuration with a valid set of credentials. The specific credentials depend on which environment your code is executed in:\n",
    "\n",
    "- If your code is executed in a Lab environment you do not need to pass any arguments, as these are automatically handled by your AdaLab session.\n",
    "- If your code is executed in a deployed app with non-*public* visibility, you need to pass an access token as well as a refresh token. You can find these in the request headers in the user's browser session, which you can retrieve from the user's accessing your app. The method to retrieve these depends on the framework you use (e.g., Streamlit, Flask).\n",
    "- If your code is executed outside AdaLab (e.g., your local computer), you need to pass your AdaLab username and password, as well as the URL of the AdaLab instance you want to connect to. The URL will be something similar to `https://adalab.<organization>.adamatics.io/adaboard/api`.\n"
   ]
  },
  {
   "cell_type": "code",
   "execution_count": null,
   "metadata": {},
   "outputs": [],
   "source": [
    "# If executed in a Lab environment\n",
    "get_config()\n",
    "# If executed in a deployed app\n",
    "# get_config(app_access_token=my_access_token, app_refresh_token=my_refresh_token)\n",
    "# If executed outside AdaLab\n",
    "# get_config(token=my_adalab_token, adaboard_api_url=my_url)"
   ]
  },
  {
   "cell_type": "markdown",
   "metadata": {},
   "source": [
    "## Edit an existing card group"
   ]
  },
  {
   "cell_type": "markdown",
   "metadata": {},
   "source": [
    "You can add cards of any type to a group. You can find the cards IDs by examining the output of [`cards.get_cards()`](get_cards.ipynb).\n",
    "\n",
    "Note that the ACL configuration you set up when creating the group applies only to the group itself. The cards in the group will retain their original ACL configuration. The same applies to the visibility and the approval status of the cards.\n",
    "\n",
    "If any of the chosen keywords does not exist when using this function, they will be created in the Gallery. You can see existing keywords by using [`keywords.get_keywords()`](../keywords/get_keywords.ipynb)."
   ]
  },
  {
   "cell_type": "code",
   "execution_count": null,
   "metadata": {},
   "outputs": [],
   "source": [
    "my_card_group_id = 42\n",
    "edit_card_group(\n",
    "    group_id=my_card_group_id,\n",
    "    name=\"Cool Cards\",\n",
    "    description=\"Only cool cards allowed.\",\n",
    "    cards_id=[14, 55],\n",
    "    acl_type_view=\"userlist\",\n",
    "    acl_list_view=[\"my_username\", \"my_colleague\"],\n",
    "    keywords=[\"cool\", \"cards\"],\n",
    ")"
   ]
  }
 ],
 "metadata": {
  "language_info": {
   "name": "python"
  }
 },
 "nbformat": 4,
 "nbformat_minor": 2
}
