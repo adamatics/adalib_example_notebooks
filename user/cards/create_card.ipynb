{
 "cells": [
  {
   "cell_type": "markdown",
   "metadata": {},
   "source": [
    "# Example notebook for `adalib.cards.create_card()`"
   ]
  },
  {
   "cell_type": "markdown",
   "metadata": {},
   "source": [
    "The `create_card()` function allows the user to create a card in the AdaLab Gallery. You can learn more about card creation in the AdaLab documentation under **Gallery > Cards in AdaLab > Creating Cards**."
   ]
  },
  {
   "cell_type": "markdown",
   "metadata": {},
   "source": [
    "## Import modules and functions"
   ]
  },
  {
   "cell_type": "code",
   "execution_count": null,
   "metadata": {},
   "outputs": [],
   "source": [
    "from adalib.cards import create_card\n",
    "from adalib_auth.config import get_config"
   ]
  },
  {
   "cell_type": "markdown",
   "metadata": {},
   "source": [
    "## Set up authentication"
   ]
  },
  {
   "cell_type": "markdown",
   "metadata": {},
   "source": [
    "In order to get authenticated with AdaLab, you must initialize the `adalib` configuration with a valid set of credentials. The specific credentials depend on which environment your code is executed in:\n",
    "\n",
    "- If your code is executed in a Lab environment you do not need to pass any arguments, as these are automatically handled by your AdaLab session.\n",
    "- If your code is executed in a deployed app with non-*public* visibility, you need to pass an access token as well as a refresh token. You can find these in the request headers in the user's browser session, which you can retrieve from the user's accessing your app. The method to retrieve these depends on the framework you use (e.g., Streamlit, Flask).\n",
    "- If your code is executed outside AdaLab (e.g., your local computer), you need to pass your AdaLab username and password, as well as the URL of the AdaLab instance you want to connect to. The URL will be something similar to `https://adalab.<organization>.adamatics.io/adaboard/api`.\n"
   ]
  },
  {
   "cell_type": "code",
   "execution_count": null,
   "metadata": {},
   "outputs": [],
   "source": [
    "# If executed in a Lab environment\n",
    "get_config()\n",
    "# If executed in a deployed app\n",
    "# get_config(app_access_token=my_access_token, app_refresh_token=my_refresh_token)\n",
    "# If executed outside AdaLab\n",
    "# get_config(token=my_adalab_token, adaboard_api_url=my_url)"
   ]
  },
  {
   "cell_type": "markdown",
   "metadata": {},
   "source": [
    "## Create a new card"
   ]
  },
  {
   "cell_type": "markdown",
   "metadata": {},
   "source": [
    "With this function you can create cards of type *Notebook* or *Voilà*. For either of them, there is some fundamental information you must provide:\n",
    "- `name`: a user-friendly name for the card.\n",
    "- `description`: some useful information about the card's purpose.\n",
    "- `cardtype`: whether you are creating a `notebook` or a `voila` type of card.\n",
    "- `notebook_file`: the path to the main Notebook of the card.\n",
    "\n",
    "There are some additional arguments that allow you to tailor your card's purpose and scope:\n",
    "- `acl_type_<action>`: it establishes the type of access control for a specific action (`view`, `launch` or `edit`). Valid types are: `public`, `logged_in`, `userlist` and `grouplist`.\n",
    "- `acl_list_<action>`: when choosing an ACL of type `userlist` or `grouplist` for an action, you also need to provide a list of users/groups authorized to take such action.\n",
    "- `aux_files`: a list of additional files needed for the card to work as intended. You can include as many folders and files as you need, but there is a limit as to how large each individual file can be. \n",
    "  + For each file or folder, you need to provide a `dict` with keys `source` (where the item is located) and `target` (where the item is to be placed, respective to the card's base directory).\n",
    "  + When adding folders, the path must end with `/`.\n",
    "- `coauthors`: names of colleagues who have also participated in the creation of the card.\n",
    "- `include_kernel`: whether to link the Notebook with the kernel used during its development. This allows other users to use the card in the same environment it was developed in. If set to `False` the user will have to manually choose a kernel when launching the card.\n",
    "- `keywords`: a list of existing AdaLab keywords to better classify the card. If any of the chosen keywords does not exist when using this function, they will be created in the Gallery. You can see existing keywords by using [`keywords.get_keywords()`](../keywords/get_keywords.ipynb).\n",
    "- `source`: you can create cards using files either from your Lab environment (`lab`) or from an external system (`local`), such as your local computer. However, it is required that all files are located in the same system. There a few differences between both procedures:\n",
    "  + When using `lab`: \n",
    "    * The paths must be relative to the users home directory (`/home/<username>/`) and, thus, this part should not be included.\n",
    "    * Folders within other folders **are not** automatically included. Thus, you need to provide each and every folder you want to put into the card.\n",
    "  + When using `local`:\n",
    "    * The paths are absolute and, thus, must be provided in full.\n",
    "    * Folders within other folders **are**  automatically included. Thus, all files contained in a folder and its subfolders will be included. The internal structure is preserved when creating the card.\n",
    "- `picture_id`: the ID of the picture to be used in the card. If not already present in the Gallery, you can upload a new one with [`pictures.post_picture()`](../pictures/post_picture.ipynb).\n",
    "- `reviewers`: a list of users who will review the card. \n",
    "\n",
    "Upon successful execution, the function will return the new card's ID."
   ]
  },
  {
   "cell_type": "code",
   "execution_count": null,
   "metadata": {},
   "outputs": [],
   "source": [
    "my_card_id = create_card(\n",
    "    name=\"Super powerful card\", \n",
    "    description=\"This card does amazing things.\",\n",
    "    cardtype=\"notebook\",  # Choose between \"notebook\" and \"voila\"\n",
    "    notebook_file=\"my_projects/my_analysis/data_analysis.ipynb\",\n",
    "    aux_files=[\n",
    "        {\"source\": \"my_projects/my_analysis/my_utils/macros.py\", # A single file\n",
    "        \"target\": \"utils/\"}, \n",
    "        {\"source\": \"my_projects/my_analysis/my_models/\", # All files in a folder; folders must end with \"/\"\n",
    "        \"target\": \"models/\"}], \n",
    "    acl_type_view=\"public\",\n",
    "    acl_type_launch=\"logged_in\",\n",
    "    acl_type_edit=\"userlist\",\n",
    "    acl_list_edit=[\"myself\", \"my_colleague\"],\n",
    "    coauthors=[\"my_colleague\"],\n",
    "    picture_id=42,\n",
    "    include_kernel=True,\n",
    "    keywords=[\"data analysis\", \"genomics\"],\n",
    "    source=\"lab\"\n",
    ")"
   ]
  }
 ],
 "metadata": {
  "kernelspec": {
   "display_name": ".venv",
   "language": "python",
   "name": "python3"
  },
  "language_info": {
   "codemirror_mode": {
    "name": "ipython",
    "version": 3
   },
   "file_extension": ".py",
   "mimetype": "text/x-python",
   "name": "python",
   "nbconvert_exporter": "python",
   "pygments_lexer": "ipython3",
   "version": "3.10.12"
  }
 },
 "nbformat": 4,
 "nbformat_minor": 2
}
