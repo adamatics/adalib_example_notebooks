{
 "cells": [
  {
   "cell_type": "markdown",
   "metadata": {},
   "source": [
    "# Example notebook for `adalib.lab.install_kernel()`"
   ]
  },
  {
   "cell_type": "markdown",
   "metadata": {},
   "source": [
    "The `install_kernel()` function allows the user to install a kernel image into their Lab environment, so that it can be used in notebooks. You can learn more about kernels in the AdaLab documentation under **Kernels**."
   ]
  },
  {
   "cell_type": "markdown",
   "metadata": {},
   "source": [
    "## Import modules and functions"
   ]
  },
  {
   "cell_type": "code",
   "execution_count": 1,
   "metadata": {},
   "outputs": [],
   "source": [
    "from adalib.lab import install_kernel\n",
    "from adalib_auth.config import get_config"
   ]
  },
  {
   "cell_type": "markdown",
   "metadata": {},
   "source": [
    "## Set up authentication"
   ]
  },
  {
   "cell_type": "markdown",
   "metadata": {},
   "source": [
    "In order to get authenticated with AdaLab, you must initialize the `adalib` configuration with a valid set of credentials. The specific credentials depend on which environment your code is executed in:\n",
    "\n",
    "- If your code is executed in a Lab environment you do not need to pass any arguments, as these are automatically handled by your AdaLab session.\n",
    "- If your code is executed in a deployed app with non-*public* visibility, you need to pass an access token as well as a refresh token. You can find these in the request headers in the user's browser session, which you can retrieve from the user's accessing your app. The method to retrieve these depends on the framework you use (e.g., Streamlit, Flask).\n",
    "- If your code is executed outside AdaLab (e.g., your local computer), you need to pass your AdaLab username and password, as well as the URL of the AdaLab instance you want to connect to. The URL will be something similar to `https://adalab.<organization>.adamatics.io/adaboard/api`.\n"
   ]
  },
  {
   "cell_type": "code",
   "execution_count": 2,
   "metadata": {},
   "outputs": [],
   "source": [
    "# If executed in a Lab environment\n",
    "get_config()\n",
    "# If executed in a deployed app\n",
    "# get_config(app_access_token=my_access_token, app_refresh_token=my_refresh_token)\n",
    "# If executed outside AdaLab\n",
    "# get_config(token=my_adalab_token, adaboard_api_url=my_url)"
   ]
  },
  {
   "cell_type": "markdown",
   "metadata": {},
   "source": [
    "## Install a kernel from the Harbor registry"
   ]
  },
  {
   "cell_type": "markdown",
   "metadata": {},
   "source": [
    "In order to install a kernel, it must have previously been pushed to the container registry and linked to a metadata object. You can find the metadata ID of the kernel by using [`lab.get_kernel_metadata_id()`](get_kernel_metadata_id.ipynb).\n",
    "\n",
    "You also need to provide a name to the kernel, which will be displayed when using it in a notebook. By default, an empty notebook will be created alongside the installed kernel. You can modify this behavior with the `include_notebook` argument."
   ]
  },
  {
   "cell_type": "code",
   "execution_count": null,
   "metadata": {},
   "outputs": [],
   "source": [
    "install_kernel(metadata_id=37, name=\"super_kernel\", include_notebook=False)"
   ]
  }
 ],
 "metadata": {
  "kernelspec": {
   "display_name": ".venv",
   "language": "python",
   "name": "python3"
  },
  "language_info": {
   "codemirror_mode": {
    "name": "ipython",
    "version": 3
   },
   "file_extension": ".py",
   "mimetype": "text/x-python",
   "name": "python",
   "nbconvert_exporter": "python",
   "pygments_lexer": "ipython3",
   "version": "3.10.12"
  }
 },
 "nbformat": 4,
 "nbformat_minor": 2
}
