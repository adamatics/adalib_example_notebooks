{
 "cells": [
  {
   "cell_type": "markdown",
   "metadata": {},
   "source": [
    "# Example notebook for `adalib.lab.build_image_from_lab()`"
   ]
  },
  {
   "cell_type": "markdown",
   "metadata": {},
   "source": [
    "The `build_image_from_lab()` function allows the user to trigger the build process of a `Containerfile`-based image in AdaLab. You can learn more about `Containerfile`s and building images in the AdaLab documentation, under **Containers and Apps > Building and Running Containers in AdaLab > Containerfile Tutorial** and **Kernels > Building Kernels**."
   ]
  },
  {
   "cell_type": "markdown",
   "metadata": {},
   "source": [
    "## Import modules and functions"
   ]
  },
  {
   "cell_type": "code",
   "execution_count": null,
   "metadata": {},
   "outputs": [],
   "source": [
    "from adalib.lab import build_image_from_lab\n",
    "from adalib_auth.config import get_config"
   ]
  },
  {
   "cell_type": "markdown",
   "metadata": {},
   "source": [
    "## Set up authentication"
   ]
  },
  {
   "cell_type": "markdown",
   "metadata": {},
   "source": [
    "In order to get authenticated with AdaLab, you must initialize the `adalib` configuration with a valid set of credentials. The specific credentials depend on which environment your code is executed in:\n",
    "\n",
    "- If your code is executed in a Lab environment you do not need to pass any arguments, as these are automatically handled by your AdaLab session.\n",
    "- If your code is executed in a deployed app with non-*public* visibility, you need to pass an access token as well as a refresh token. You can find these in the request headers in the user's browser session, which you can retrieve from the user's accessing your app. The method to retrieve these depends on the framework you use (e.g., Streamlit, Flask).\n",
    "- If your code is executed outside AdaLab (e.g., your local computer), you need to pass your AdaLab username and password, as well as the URL of the AdaLab instance you want to connect to. The URL will be something similar to `https://adalab.<organization>.adamatics.io/adaboard/api`.\n"
   ]
  },
  {
   "cell_type": "code",
   "execution_count": null,
   "metadata": {},
   "outputs": [],
   "source": [
    "# If executed in a Lab environment\n",
    "get_config()\n",
    "# If executed in a deployed app\n",
    "# get_config(app_access_token=my_access_token, app_refresh_token=my_refresh_token)\n",
    "# If executed outside AdaLab\n",
    "# get_config(token=my_adalab_token, adaboard_api_url=my_url)"
   ]
  },
  {
   "cell_type": "markdown",
   "metadata": {},
   "source": [
    "## Choose source image and target project"
   ]
  },
  {
   "cell_type": "markdown",
   "metadata": {},
   "source": [
    "The following parameters are mandatory:\n",
    "\n",
    "- `source_repository`: directory in your Lab environment where the `Containerfile` to be built is stored.\n",
    "- `image_name`: the name of the container image that will be built. Note that only alphanumeric characters are admitted.\n",
    "- `image_tag`: the tag of the container image that will be built. Note that only alphanumeric characters are admitted.\n",
    "- `image_type`: the type of container image depending on its purpose (`apps`, `kernels` or `base_images`).\n",
    "\n",
    "Additionally, you may provide some optional parameters:\n",
    "\n",
    "- `project_name`: a human-readable label to classify the built image under. If it does not exist yet, a new project label will be created. If not specified, it will be assigned the same value as `image_name`.\n",
    "- `build_args`: extra build arguments specified as key-value pairs.\n",
    "- `timeout`: the time limit of the build process, in seconds.\n",
    "- `is_docker`: set to `True` if the source file is a `Dockerfile`.\n",
    "\n",
    "Upon successful execution, the ID of the build process is returned."
   ]
  },
  {
   "cell_type": "code",
   "execution_count": null,
   "metadata": {},
   "outputs": [],
   "source": [
    "build_id = build_image_from_lab(\n",
    "    source_repository=\"my_containers/amazing_kernel\", \n",
    "    image_name=\"my_amazing_kernel\", \n",
    "    image_tag=\"3.0\", \n",
    "    image_type=\"kernels\", \n",
    "    project_name=\"Amazing Kernels\"\n",
    ")"
   ]
  }
 ],
 "metadata": {
  "language_info": {
   "name": "python"
  }
 },
 "nbformat": 4,
 "nbformat_minor": 2
}
