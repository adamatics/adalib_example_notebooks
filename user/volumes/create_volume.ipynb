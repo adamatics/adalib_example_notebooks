{
 "cells": [
  {
   "cell_type": "markdown",
   "metadata": {},
   "source": [
    "# Example notebook for `adalib.volumes.create_volume()`"
   ]
  },
  {
   "cell_type": "markdown",
   "metadata": {},
   "source": [
    "The `create_volume()` function allows the user to create a shared volume that can be mounted into user Labs and deployed apps. You can learn more about volumes in the AdaLab documentation under **Volumes**."
   ]
  },
  {
   "cell_type": "markdown",
   "metadata": {},
   "source": [
    "## Import modules and functions"
   ]
  },
  {
   "cell_type": "code",
   "execution_count": null,
   "metadata": {},
   "outputs": [],
   "source": [
    "from adalib.volumes import create_volume\n",
    "from adalib_auth.config import get_config"
   ]
  },
  {
   "cell_type": "markdown",
   "metadata": {},
   "source": [
    "## Set up authentication"
   ]
  },
  {
   "cell_type": "markdown",
   "metadata": {},
   "source": [
    "In order to get authenticated with AdaLab, you must initialize the `adalib` configuration with a valid set of credentials. The specific credentials depend on which environment your code is executed in:\n",
    "\n",
    "- If your code is executed in a Lab environment you do not need to pass any arguments, as these are automatically handled by your AdaLab session.\n",
    "- If your code is executed in a deployed app with non-*public* visibility, you need to pass an access token as well as a refresh token. You can find these in the request headers in the user's browser session, which you can retrieve from the user's accessing your app. The method to retrieve these depends on the framework you use (e.g., Streamlit, Flask).\n",
    "- If your code is executed outside AdaLab (e.g., your local computer), you need to pass your AdaLab username and password, as well as the URL of the AdaLab instance you want to connect to. The URL will be something similar to `https://adalab.<organization>.adamatics.io/adaboard/api`.\n"
   ]
  },
  {
   "cell_type": "code",
   "execution_count": null,
   "metadata": {},
   "outputs": [],
   "source": [
    "# If executed in a Lab environment\n",
    "get_config()\n",
    "# If executed in a deployed app\n",
    "# get_config(app_access_token=my_access_token, app_refresh_token=my_refresh_token)\n",
    "# If executed outside AdaLab\n",
    "# get_config(token=my_adalab_token, adaboard_api_url=my_url)"
   ]
  },
  {
   "cell_type": "markdown",
   "metadata": {},
   "source": [
    "## Create a new volume"
   ]
  },
  {
   "cell_type": "markdown",
   "metadata": {},
   "source": [
    "When creating a new shared volume, you need to provide the following information:\n",
    "  - `name`: a user-friendly name for the volume.\n",
    "  - `description`: some useful information about the volume's purpose.\n",
    "  - `size`: the size of the volume in GB.\n",
    "\n",
    "  You can use some additional parameters to configure access to the volume:\n",
    "  - `view_acl_type`: the type of access control for viewing the volume. Valid types are: `public`, `logged_in`, `userlist` and `grouplist`.\n",
    "  - `view_acl_list`: when choosing an ACL of type `userlist` or `grouplist`, you also need to provide a list of users/groups authorized to view the volume.\n",
    "  - `mount_acl_type`: the type of access control for mounting the volume. Valid types are: `public`, `logged_in`, `userlist` and `grouplist`.\n",
    "  - `mount_acl_list`: when choosing an ACL of type `userlist` or `grouplist`, you also need to provide a list of users/groups authorized to mount the volume.\n",
    "  - `edit_acl_type`: the type of access control for editing the volume. Valid types are: `public`, `logged_in`, `userlist` and `grouplist`.\n",
    "  - `edit_acl_list`: when choosing an ACL of type `userlist` or `grouplist`, you also need to provide a list of users/groups authorized to edit the volume.\n",
    "\n",
    "  Upon successful execution, the function will return the new volume's ID."
   ]
  },
  {
   "cell_type": "code",
   "execution_count": null,
   "metadata": {},
   "outputs": [],
   "source": [
    "my_volume_id = create_volume(\n",
    "            name=\"MySharedVolume\",\n",
    "            description=\"This is a shared volume for testing purposes.\",\n",
    "            size=10,\n",
    "            view_acl_type=\"public\",\n",
    "            mount_acl_type=\"logged_in\",\n",
    "            edit_acl_type=\"userlist\",\n",
    "            edit_acl_list=[\"user1\", \"user2\"],\n",
    "        )"
   ]
  }
 ],
 "metadata": {
  "kernelspec": {
   "display_name": ".venv",
   "language": "python",
   "name": "python3"
  },
  "language_info": {
   "codemirror_mode": {
    "name": "ipython",
    "version": 3
   },
   "file_extension": ".py",
   "mimetype": "text/x-python",
   "name": "python",
   "nbconvert_exporter": "python",
   "pygments_lexer": "ipython3",
   "version": "3.10.12"
  }
 },
 "nbformat": 4,
 "nbformat_minor": 2
}
