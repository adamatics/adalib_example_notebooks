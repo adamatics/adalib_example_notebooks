{
 "cells": [
  {
   "cell_type": "markdown",
   "metadata": {},
   "source": [
    "# Example notebook for `adalib.superset.dashboard` and `adalib.superset.chart`"
   ]
  },
  {
   "cell_type": "markdown",
   "metadata": {},
   "source": [
    "The `dashboard` and `chart` classes allow the user to access and interact with visualization elements (i.e., dashboards and charts) present in the Superset deployment. Make sure you have the proper rights and permissions to perform this action."
   ]
  },
  {
   "cell_type": "markdown",
   "metadata": {},
   "source": [
    "## Import modules and functions"
   ]
  },
  {
   "cell_type": "code",
   "execution_count": null,
   "metadata": {},
   "outputs": [],
   "source": [
    "from adalib import superset"
   ]
  },
  {
   "cell_type": "markdown",
   "metadata": {},
   "source": [
    "## Create Superset API client\n",
    "\n",
    "The client establishes a connection with Superset and handles authentication for you."
   ]
  },
  {
   "cell_type": "code",
   "execution_count": null,
   "metadata": {},
   "outputs": [],
   "source": [
    "superset_client = superset.client.OAuthSupersetClient()\n",
    "print(f\"Client connected to {superset_client.external_host}\")"
   ]
  },
  {
   "cell_type": "markdown",
   "metadata": {},
   "source": [
    "## Find existing dashboards and charts\n",
    "\n",
    "Fetch a list of the visualizations you have access to in Superset."
   ]
  },
  {
   "cell_type": "code",
   "execution_count": null,
   "metadata": {},
   "outputs": [],
   "source": [
    "all_dashboards_df = superset_client.dashboards.all().as_df()\n",
    "display(all_dashboards_df.head())\n",
    "\n",
    "all_charts_df = superset_client.charts.all().as_df()\n",
    "display(all_charts_df.head())"
   ]
  },
  {
   "cell_type": "markdown",
   "metadata": {},
   "source": [
    "For any dashboard, you can find the charts that are part of it. Note that dashboards are fetched by `id`, which you can find in the previous `DataFrame`. With a bit of extra code you can also get them by their name."
   ]
  },
  {
   "cell_type": "code",
   "execution_count": null,
   "metadata": {},
   "outputs": [],
   "source": [
    "my_dashboard_name = \"Cool Dashboard\"\n",
    "my_dashboard_id = all_dashboards_df[all_dashboards_df[\"name\"] == my_dashboard_name].index[0]\n",
    "my_dashboard = superset_client.dashboards.get(id=str(my_dashboard_id))\n",
    "my_dashboard_charts_lst = my_dashboard.charts\n",
    "display(my_dashboard_charts_lst)"
   ]
  },
  {
   "cell_type": "markdown",
   "metadata": {},
   "source": [
    "Alternatively, you can find all charts from all dashboards."
   ]
  },
  {
   "cell_type": "code",
   "execution_count": null,
   "metadata": {},
   "outputs": [],
   "source": [
    "all_charts_df = superset_client.charts.all().as_df()\n",
    "display (all_charts_df.head())"
   ]
  },
  {
   "cell_type": "markdown",
   "metadata": {},
   "source": [
    "## Embed a chart into your notebook\n",
    "\n",
    "Charts can be embedded into notebooks, providing a certain degree of interaction. Note that, if you modify a chart in Superset, you would need to re-run the cell in order for changes to take effect."
   ]
  },
  {
   "cell_type": "code",
   "execution_count": null,
   "metadata": {},
   "outputs": [],
   "source": [
    "my_chart_name = \"Card Contributions\"\n",
    "my_chart_id = all_charts_df[all_charts_df[\"name\"] == my_chart_name].index[0]\n",
    "my_chart = superset_client.charts.get(id=str(my_chart_id))\n",
    "my_chart.embed()"
   ]
  }
 ],
 "metadata": {
  "kernelspec": {
   "display_name": ".venv",
   "language": "python",
   "name": "python3"
  },
  "language_info": {
   "codemirror_mode": {
    "name": "ipython",
    "version": 3
   },
   "file_extension": ".py",
   "mimetype": "text/x-python",
   "name": "python",
   "nbconvert_exporter": "python",
   "pygments_lexer": "ipython3",
   "version": "3.10.12"
  }
 },
 "nbformat": 4,
 "nbformat_minor": 2
}
