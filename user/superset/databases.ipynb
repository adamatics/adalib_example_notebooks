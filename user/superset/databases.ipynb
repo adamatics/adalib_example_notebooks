{
 "cells": [
  {
   "cell_type": "markdown",
   "metadata": {},
   "source": [
    "# Example notebook for `adalib.superset.database`"
   ]
  },
  {
   "cell_type": "markdown",
   "metadata": {},
   "source": [
    "The `database` class allows the user to access and interact with databases connected to the Superset deployment using `adalib`. Make sure you have the proper rights and permissions to perform this action."
   ]
  },
  {
   "cell_type": "markdown",
   "metadata": {},
   "source": [
    "## Import modules and functions"
   ]
  },
  {
   "cell_type": "code",
   "execution_count": null,
   "metadata": {},
   "outputs": [],
   "source": [
    "from adalib import superset"
   ]
  },
  {
   "cell_type": "markdown",
   "metadata": {},
   "source": [
    "## Create Superset API client\n",
    "\n",
    "The client establishes a connection with Superset and handles authentication for you."
   ]
  },
  {
   "cell_type": "code",
   "execution_count": null,
   "metadata": {},
   "outputs": [],
   "source": [
    "superset_client = superset.client.OAuthSupersetClient()\n",
    "print(f\"Client connected to {superset_client.external_host}\")"
   ]
  },
  {
   "cell_type": "markdown",
   "metadata": {},
   "source": [
    "## Find connected databases\n",
    "\n",
    "Easily find databases which have been connected to your Superset deployment."
   ]
  },
  {
   "cell_type": "code",
   "execution_count": null,
   "metadata": {},
   "outputs": [],
   "source": [
    "all_databases_df = superset_client.databases.all().as_df()\n",
    "display(all_databases_df.head())"
   ]
  },
  {
   "cell_type": "markdown",
   "metadata": {},
   "source": [
    "## Interact with connected databases\n",
    "\n",
    "Databases are fetched by their `id`, which you can find in the previous `DataFrame`. With a bit of extra code you can also get them by their name."
   ]
  },
  {
   "cell_type": "code",
   "execution_count": null,
   "metadata": {},
   "outputs": [],
   "source": [
    "my_db_name = \"AdaPG\"\n",
    "my_db_id = all_databases_df[all_databases_df[\"name\"] == my_db_name].index[0]\n",
    "my_db = superset_client.databases.get(id=str(my_db_id))"
   ]
  },
  {
   "cell_type": "markdown",
   "metadata": {},
   "source": [
    "After an instance of the database has been created, the user can directly run custom queries on it."
   ]
  },
  {
   "cell_type": "code",
   "execution_count": null,
   "metadata": {},
   "outputs": [],
   "source": [
    "db_query = \"SELECT * FROM cards\"\n",
    "data_df = my_db.run(db_query).as_df()\n",
    "display(data_df.info())\n",
    "display(data_df.head())"
   ]
  }
 ],
 "metadata": {
  "kernelspec": {
   "display_name": ".venv",
   "language": "python",
   "name": "python3"
  },
  "language_info": {
   "codemirror_mode": {
    "name": "ipython",
    "version": 3
   },
   "file_extension": ".py",
   "mimetype": "text/x-python",
   "name": "python",
   "nbconvert_exporter": "python",
   "pygments_lexer": "ipython3",
   "version": "3.10.12"
  }
 },
 "nbformat": 4,
 "nbformat_minor": 2
}
