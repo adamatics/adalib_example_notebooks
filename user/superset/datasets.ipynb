{
 "cells": [
  {
   "cell_type": "markdown",
   "metadata": {},
   "source": [
    "# Example notebook for `adalib.superset.dataset`"
   ]
  },
  {
   "cell_type": "markdown",
   "metadata": {},
   "source": [
    "The `dataset` class allows the user to access and interact with datasets (both virtual and physical) present in the Superset deployment using `adalib`. Make sure you have the proper rights and permissions to perform this action."
   ]
  },
  {
   "cell_type": "markdown",
   "metadata": {},
   "source": [
    "## Import modules and functions"
   ]
  },
  {
   "cell_type": "code",
   "execution_count": null,
   "metadata": {},
   "outputs": [],
   "source": [
    "from adalib import superset"
   ]
  },
  {
   "cell_type": "markdown",
   "metadata": {},
   "source": [
    "## Create Superset API client\n",
    "\n",
    "The client establishes a connection with Superset and handles authentication for you."
   ]
  },
  {
   "cell_type": "code",
   "execution_count": null,
   "metadata": {},
   "outputs": [],
   "source": [
    "superset_client = superset.client.OAuthSupersetClient()\n",
    "print(f\"Client connected to {superset_client.external_host}\")"
   ]
  },
  {
   "cell_type": "markdown",
   "metadata": {},
   "source": [
    "## Find available datasets\n",
    "\n",
    "Easily find all existing datasets for all your databases."
   ]
  },
  {
   "cell_type": "code",
   "execution_count": null,
   "metadata": {},
   "outputs": [],
   "source": [
    "all_datasets_df = superset_client.datasets.all().as_df()\n",
    "display(all_datasets_df.head())"
   ]
  },
  {
   "cell_type": "markdown",
   "metadata": {},
   "source": [
    "Or filter them out by the database they belong to."
   ]
  },
  {
   "cell_type": "code",
   "execution_count": null,
   "metadata": {},
   "outputs": [],
   "source": [
    "my_db_id = 1\n",
    "db_datasets_df = all_datasets_df[all_datasets_df[\"database_id\"] == my_db_id]\n",
    "display(db_datasets_df.head())"
   ]
  },
  {
   "cell_type": "markdown",
   "metadata": {},
   "source": [
    "## Fetch the actual data\n",
    "\n",
    "Datasets are accessible via their `id`, which you can find in the previous `DataFrame`. With a bit of extra code you can also get them by their name."
   ]
  },
  {
   "cell_type": "code",
   "execution_count": null,
   "metadata": {},
   "outputs": [],
   "source": [
    "my_dataset_name = \"cards_lite_virtual\"\n",
    "my_dataset_id = all_datasets_df[all_datasets_df[\"name\"] == my_dataset_name].index[0]\n",
    "my_dataset = superset_client.datasets.get(id=str(my_dataset_id))"
   ]
  },
  {
   "cell_type": "markdown",
   "metadata": {},
   "source": [
    "Data are fetched by running the SQL query associated with the dataset."
   ]
  },
  {
   "cell_type": "code",
   "execution_count": null,
   "metadata": {},
   "outputs": [],
   "source": [
    "my_data_df = my_dataset.run().as_df()\n",
    "display(my_data_df.head())"
   ]
  }
 ],
 "metadata": {
  "kernelspec": {
   "display_name": ".venv",
   "language": "python",
   "name": "python3"
  },
  "language_info": {
   "codemirror_mode": {
    "name": "ipython",
    "version": 3
   },
   "file_extension": ".py",
   "mimetype": "text/x-python",
   "name": "python",
   "nbconvert_exporter": "python",
   "pygments_lexer": "ipython3",
   "version": "3.10.12"
  }
 },
 "nbformat": 4,
 "nbformat_minor": 2
}
