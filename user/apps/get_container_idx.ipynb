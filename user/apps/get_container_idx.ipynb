{
 "cells": [
  {
   "cell_type": "markdown",
   "metadata": {},
   "source": [
    "# Example notebook for `adalib.apps.get_container_idx()`"
   ]
  },
  {
   "cell_type": "markdown",
   "metadata": {},
   "source": [
    "The `get_container_idx()` function allows the user to find the index of a specific container within an existing multi-container app AdaLab. You can learn more deployed apps in the AdaLab documentation, under **Containers and Apps > App Deployment**."
   ]
  },
  {
   "cell_type": "markdown",
   "metadata": {},
   "source": [
    "## Import modules and functions"
   ]
  },
  {
   "cell_type": "code",
   "execution_count": null,
   "metadata": {},
   "outputs": [],
   "source": [
    "from adalib.apps import get_container_idx\n",
    "from adalib_auth.config import get_config"
   ]
  },
  {
   "cell_type": "markdown",
   "metadata": {},
   "source": [
    "## Set up authentication"
   ]
  },
  {
   "cell_type": "markdown",
   "metadata": {},
   "source": [
    "In order to get authenticated with AdaLab, you must initialize the `adalib` configuration with a valid set of credentials. The specific credentials depend on which environment your code is executed in:\n",
    "\n",
    "- If your code is executed in a Lab environment you do not need to pass any arguments, as these are automatically handled by your AdaLab session.\n",
    "- If your code is executed in a deployed app with non-*public* visibility, you need to pass an access token as well as a refresh token. You can find these in the request headers in the user's browser session, which you can retrieve from the user's accessing your app. The method to retrieve these depends on the framework you use (e.g., Streamlit, Flask).\n",
    "- If your code is executed outside AdaLab (e.g., your local computer), you need to pass your AdaLab username and password, as well as the URL of the AdaLab instance you want to connect to. The URL will be something similar to `https://adalab.<organization>.adamatics.io/adaboard/api`.\n"
   ]
  },
  {
   "cell_type": "code",
   "execution_count": null,
   "metadata": {},
   "outputs": [],
   "source": [
    "# If executed in a Lab environment\n",
    "get_config()\n",
    "# If executed in a deployed app\n",
    "# get_config(app_access_token=my_access_token, app_refresh_token=my_refresh_token)\n",
    "# If executed outside AdaLab\n",
    "# get_config(token=my_adalab_token, adaboard_api_url=my_url)"
   ]
  },
  {
   "cell_type": "markdown",
   "metadata": {},
   "source": [
    "## Find the container index"
   ]
  },
  {
   "cell_type": "markdown",
   "metadata": {},
   "source": [
    "In order to retrieve the index of a container, you need to provide the function with the app's ID as well as the container image's metadata ID. You can find the former by using [`apps.get_app_id()`](get_app_id.ipynb), while the latter can be found with [`harbor.get_image_metadata_id()`](../harbor/get_image_metadata_id.ipynb)."
   ]
  },
  {
   "cell_type": "code",
   "execution_count": null,
   "metadata": {},
   "outputs": [],
   "source": [
    "my_idx = get_container_idx(\n",
    "    app_id=\"erkef6b4-7839-4c1f-994f-f04a79478aac\",\n",
    "    metadata_id=777,\n",
    ")"
   ]
  }
 ],
 "metadata": {
  "language_info": {
   "name": "python"
  }
 },
 "nbformat": 4,
 "nbformat_minor": 2
}
