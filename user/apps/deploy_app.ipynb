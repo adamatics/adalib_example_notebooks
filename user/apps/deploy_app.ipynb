{
 "cells": [
  {
   "cell_type": "markdown",
   "metadata": {},
   "source": [
    "# Example notebook for `adalib.apps.deploy_app()`"
   ]
  },
  {
   "cell_type": "markdown",
   "metadata": {},
   "source": [
    "The `deploy_app()` function allows the user to deploy a new single-container app to an available URL in AdaLab. You can learn more deployed apps in the AdaLab documentation, under **Containers and Apps > App Deployment**."
   ]
  },
  {
   "cell_type": "markdown",
   "metadata": {},
   "source": [
    "## Import modules and functions"
   ]
  },
  {
   "cell_type": "code",
   "execution_count": null,
   "metadata": {},
   "outputs": [],
   "source": [
    "from adalib.apps import deploy_app\n",
    "from adalib_auth.config import get_config"
   ]
  },
  {
   "cell_type": "markdown",
   "metadata": {},
   "source": [
    "## Set up authentication"
   ]
  },
  {
   "cell_type": "markdown",
   "metadata": {},
   "source": [
    "In order to get authenticated with AdaLab, you must initialize the `adalib` configuration with a valid set of credentials. The specific credentials depend on which environment your code is executed in:\n",
    "\n",
    "- If your code is executed in a Lab environment you do not need to pass any arguments, as these are automatically handled by your AdaLab session.\n",
    "- If your code is executed in a deployed app with non-*public* visibility, you need to pass an access token as well as a refresh token. You can find these in the request headers in the user's browser session, which you can retrieve from the user's accessing your app. The method to retrieve these depends on the framework you use (e.g., Streamlit, Flask).\n",
    "- If your code is executed outside AdaLab (e.g., your local computer), you need to pass your AdaLab username and password, as well as the URL of the AdaLab instance you want to connect to. The URL will be something similar to `https://adalab.<organization>.adamatics.io/adaboard/api`.\n"
   ]
  },
  {
   "cell_type": "code",
   "execution_count": null,
   "metadata": {},
   "outputs": [],
   "source": [
    "# If executed in a Lab environment\n",
    "get_config()\n",
    "# If executed in a deployed app\n",
    "# get_config(app_access_token=my_access_token, app_refresh_token=my_refresh_token)\n",
    "# If executed outside AdaLab\n",
    "# get_config(token=my_adalab_token, adaboard_api_url=my_url)"
   ]
  },
  {
   "cell_type": "markdown",
   "metadata": {},
   "source": [
    "## Deploy the app"
   ]
  },
  {
   "cell_type": "markdown",
   "metadata": {},
   "source": [
    "There are several parameters that you need to configure in order to deploy an app successfully:\n",
    "\n",
    "- `name`: the user-friendly name of the app.\n",
    "- `description`: some useful information about the app's purpose.\n",
    "- `metadata_id`: the ID of the metadata object you want to base the app on. You can find the metadata ID of an image using [`harbor.get_image_metadata_id()`](../harbor/get_image_metadata_id.ipynb).\n",
    "- `url_path_prefix`: the URL to which the app will be deployed. Note that this is just the endpoint to be added to your AdaLab URL, and not the full URL. You can find which endpoints are already being used by examining the output of [`apps.get_apps()`](get_all_apps.ipynb).\n",
    "\n",
    "There are also some optional arguments to tailor the app to your needs:\n",
    "\n",
    "- `stripped_prefix`: this can be set to `True` in most cases. When `True`, if your application is serving assets (e.g., images or JavaScript files), it can use the `X-Forwarded-Prefix` header to properly construct relative URLs. If your app is serving assets in a special way, you will need to set this to `False`.\n",
    "- `port`: the port where the app will be served from, if you have not defined one with the `EXPOSED` statement in the `Containerfile`. This will depend on which type of app you are deploying.\n",
    "- `environment_variables`: if your app requires any environment variables to function correctly, you must pass them here as a `dict` with their name and value.\n",
    "- `max_cpu`: the maximum amount of virtual CPUs that the app can use.\n",
    "- `min_cpu`: the minimum amount of virtual CPUs that will be assigned to the app.\n",
    "- `max_ram`: the maximum amount of memory that the app can use, in megabits.\n",
    "- `min_ram`: the minimum amount of memory to be allocated to the app, in megabits.\n",
    "- `command`: the start-up command.\n",
    "- `acl_type`: the type of access control list (ACL) to manage who can access the app. This can be one of `public`, `private`, `userlist` or `group`.\n",
    "- `acl_list`: if you chose `userlist` or `group` as ACL type, you need to input the names of the authorized users/groups here. Do not forget to add yourself as well.\n",
    "- `idp_enabled`: whether to enable a specific ID provider's token in the session headers.\n",
    "- `idp_scope`: the scope of the ID provider's token.\n",
    "- `maintainers`: a list of users allowed to edit the app.\n",
    "\n",
    "Upon successful execution, the function will return the app's ID."
   ]
  },
  {
   "cell_type": "code",
   "execution_count": null,
   "metadata": {},
   "outputs": [],
   "source": [
    "my_app_id = deploy_app(\n",
    "    name=\"My Cool App\",\n",
    "    description=\"A very cool app\",\n",
    "    metadata_id=42,\n",
    "    url_path_prefix=\"my-cool-app\",\n",
    "    port=8501,\n",
    "    environment_variables={\"MY_ENV_VAR\": \"my_value\"},\n",
    "    acl_type=\"userlist\",\n",
    "    acl_userlist=[\"my_username\",\"my_colleague\"]\n",
    ")"
   ]
  }
 ],
 "metadata": {
  "kernelspec": {
   "display_name": "Python 3",
   "language": "python",
   "name": "python3"
  },
  "language_info": {
   "name": "python",
   "version": "3.12.3"
  }
 },
 "nbformat": 4,
 "nbformat_minor": 2
}
