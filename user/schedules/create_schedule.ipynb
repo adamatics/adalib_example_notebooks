{
 "cells": [
  {
   "cell_type": "markdown",
   "metadata": {},
   "source": [
    "# Example notebook for `adalib.schedules.create_schedule()`"
   ]
  },
  {
   "cell_type": "markdown",
   "metadata": {},
   "source": [
    "The `create_schedule()` function allows the user to create a new notebook schedule, either from scratch or based on an existing card. Make sure you have the proper rights and permissions to perform this action. Learn more about card permissions and schedules in the AdaLab documentation, under **Gallery > Creating Cards > Card ACL** and **Notebooks: Scheduling and Runs**, respectively."
   ]
  },
  {
   "cell_type": "markdown",
   "metadata": {},
   "source": [
    "## Import modules and functions"
   ]
  },
  {
   "cell_type": "code",
   "execution_count": 1,
   "metadata": {},
   "outputs": [],
   "source": [
    "from adalib.schedules import create_schedule\n",
    "from adalib_auth.config import get_config"
   ]
  },
  {
   "cell_type": "markdown",
   "metadata": {},
   "source": [
    "## Set up authentication"
   ]
  },
  {
   "cell_type": "markdown",
   "metadata": {},
   "source": [
    "In order to get authenticated with AdaLab, you must initialize the `adalib` configuration with a valid set of credentials. The specific credentials depend on which environment your code is executed in:\n",
    "\n",
    "- If your code is executed in a Lab environment you do not need to pass any arguments, as these are automatically handled by your AdaLab session.\n",
    "- If your code is executed in a deployed app with non-*public* visibility, you need to pass an access token as well as a refresh token. You can find these in the request headers in the user's browser session, which you can retrieve from the user's accessing your app. The method to retrieve these depends on the framework you use (e.g., Streamlit, Flask).\n",
    "- If your code is executed outside AdaLab (e.g., your local computer), you need to pass your AdaLab username and password, as well as the URL of the AdaLab instance you want to connect to. The URL will be something similar to `https://adalab.<organization>.adamatics.io/adaboard/api`.\n"
   ]
  },
  {
   "cell_type": "code",
   "execution_count": 2,
   "metadata": {},
   "outputs": [],
   "source": [
    "# If executed in a Lab environment\n",
    "get_config()\n",
    "# If executed in a deployed app\n",
    "# get_config(app_access_token=my_access_token, app_refresh_token=my_refresh_token)\n",
    "# If executed outside AdaLab\n",
    "# get_config(token=my_adalab_token, adaboard_api_url=my_url)"
   ]
  },
  {
   "cell_type": "markdown",
   "metadata": {},
   "source": [
    "## Create a new schedule"
   ]
  },
  {
   "cell_type": "markdown",
   "metadata": {},
   "source": [
    "### Based on an existing card"
   ]
  },
  {
   "cell_type": "markdown",
   "metadata": {},
   "source": [
    "Find the card ID in the URL after clicking on a card in the Gallery, selecting **Copy URL** in the three-dot menu, or by examining the output of [`cards.get_cards()`](../cards/get_cards.ipynb). Pass this value as `card_id`."
   ]
  },
  {
   "cell_type": "markdown",
   "metadata": {},
   "source": [
    "### With custom files"
   ]
  },
  {
   "cell_type": "markdown",
   "metadata": {},
   "source": [
    "You must select one Jupyter Notebook as the main file for the schedule and pass its path as `notebook_file`. You may also add auxiliary files needed for the schedule to work as intended. You can include as many folders and files as you need, but there is a limit as to how large each individual file can be. \n",
    "  + For each file or folder, you need to provide a `dict` with keys `source` (where the item is located) and `target` (where the item is to be placed, respective to the schedule's base directory).\n",
    "  + When adding folders, the path must end with `/`.\n",
    "\n",
    "Pass the auxiliary files as a list with the described structure as `aux_files`.\n",
    "\n",
    "Use argument `source` to select where the files are to be fetched from. You can create schedules using files either from your Lab environment (`lab`) or from an external system (`local`), such as your local computer. However, it is required that all files are located in the same system. There a few differences between both procedures:\n",
    "  + When using `lab`: \n",
    "    * The paths must be relative to the users home directory (`/home/<username>/`) and, thus, this part should not be included.\n",
    "    * Folders within other folders **are not** automatically included. Thus, you need to provide each and every folder you want to put into the schedule.\n",
    "  + When using `local`:\n",
    "    * The paths are absolute and, thus, must be provided in full.\n",
    "    * Folders within other folders **are**  automatically included. Thus, all files contained in a folder and its subfolders will be included. The internal structure is preserved when creating the schedule."
   ]
  },
  {
   "cell_type": "markdown",
   "metadata": {},
   "source": [
    "### Configure the schedule"
   ]
  },
  {
   "cell_type": "markdown",
   "metadata": {},
   "source": [
    "You must set some mandatory parameters when creating a schedule:\n",
    "- `name`: the name of the schedule.\n",
    "- `schedule`: the execution schedule as a *cron* time string.\n",
    "\n",
    "The following fields are optional and allow for a more detailed configuration:\n",
    "- `acl_type_<action>`: it establishes the type of access control for a specific action (`view`, `logs`, `edit` or `decrypt`). Valid types are: `public`, `logged_in`, `userlist` and `grouplist`.\n",
    "- `acl_list_<action>`: when choosing an ACL of type `userlist` or `grouplist` for an action, you also need to provide a list of users/groups authorized to take such action.\n",
    "- `active`: whether it should be *active* or *inactive*.\n",
    "- `cleanup`: whether to clean up resources after execution.\n",
    "- `concurrent`: whether it should run concurrently.\n",
    "- `inputs`: dictionary of input parameters for the execution.\n",
    "- `kernel_id`: the metadata ID of the kernel to be used when running the schedule.\n",
    "- `owner_id`: the ID of the user who owns the schedule.\n",
    "- `pool`: the pool where the schedule is to be run.\n",
    "- `post_run_script`: Bash script to be run after each execution.\n",
    "- `pre_run_script`: Bash script to be run before each execution.\n",
    "- `profile_id`: the ID of the Lab profile to be used when running the schedule.\n",
    "- `options_ids`: the IDs of the Lab options to be used when running the schedule.\n",
    "- `runner_id`: the ID of the user running the schedule.\n",
    "- `timeout`: the maximum allowed lifetime of each execution, in seconds.\n",
    "- `timezone`: the timezone code for the schedule (e.g., `Etc/UTC`)."
   ]
  },
  {
   "cell_type": "code",
   "execution_count": 3,
   "metadata": {},
   "outputs": [],
   "source": [
    "create_schedule(\n",
    "    name=\"My Schedule\",\n",
    "    schedule=\"0 0 * * *\",\n",
    "    card_id=37,\n",
    "    acl_type_view=\"logged_in\",\n",
    "    acl_type_logs=\"grouplist\",\n",
    "    acl_list_logs=[\"curators\"],\n",
    "    acl_type_decrypt=\"userlist\",\n",
    "    acl_list_decrypt=[\"myself\"],\n",
    "    active=True,\n",
    "    cleanup=True,\n",
    "    post_run_script=\"result = sub_result+1\"\n",
    ")"
   ]
  }
 ],
 "metadata": {
  "kernelspec": {
   "display_name": ".venv",
   "language": "python",
   "name": "python3"
  },
  "language_info": {
   "codemirror_mode": {
    "name": "ipython",
    "version": 3
   },
   "file_extension": ".py",
   "mimetype": "text/x-python",
   "name": "python",
   "nbconvert_exporter": "python",
   "pygments_lexer": "ipython3",
   "version": "3.10.12"
  }
 },
 "nbformat": 4,
 "nbformat_minor": 2
}
